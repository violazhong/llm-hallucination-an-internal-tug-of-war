{
 "cells": [
  {
   "cell_type": "code",
   "execution_count": 5,
   "id": "e71d9ef1-9a06-4c86-bbbf-7a99e39c4011",
   "metadata": {},
   "outputs": [],
   "source": [
    "import torch\n",
    "import pandas as pd\n",
    "import numpy as np\n",
    "from transformers import AutoModelForCausalLM, AutoTokenizer\n",
    "from tqdm.auto import tqdm\n",
    "import plotly.graph_objects as go\n",
    "from plotly.subplots import make_subplots\n",
    "import os"
   ]
  },
  {
   "cell_type": "code",
   "execution_count": null,
   "id": "efff18cc-5175-4987-ae40-6dc5bf7b47af",
   "metadata": {},
   "outputs": [
    {
     "data": {
      "text/plain": [
       "<torch.autograd.grad_mode.set_grad_enabled at 0x73a79f032f20>"
      ]
     },
     "execution_count": 6,
     "metadata": {},
     "output_type": "execute_result"
    }
   ],
   "source": [
    "# Configuration\n",
    "MODEL_NAME = \"meta-llama/Llama-2-13b-chat-hf\"\n",
    "HF_TOKEN = \"your_huggingface_token_here\"\n",
    "CSV_PATH = \"data/formality_prompts.csv\"\n",
    "DATASET_SIZE = 40\n",
    "MAX_LENGTH = 256  # Shorter for speed\n",
    "DEVICE = \"cuda\"\n",
    "\n",
    "torch.set_grad_enabled(False)"
   ]
  },
  {
   "cell_type": "code",
   "execution_count": 4,
   "id": "9e467f68-a560-402a-a790-84e6ae16a70e",
   "metadata": {},
   "outputs": [
    {
     "name": "stdout",
     "output_type": "stream",
     "text": [
      "Loading model...\n"
     ]
    },
    {
     "name": "stderr",
     "output_type": "stream",
     "text": [
      "`torch_dtype` is deprecated! Use `dtype` instead!\n",
      "2025-09-28 19:31:42.167678: E external/local_xla/xla/stream_executor/cuda/cuda_fft.cc:467] Unable to register cuFFT factory: Attempting to register factory for plugin cuFFT when one has already been registered\n",
      "WARNING: All log messages before absl::InitializeLog() is called are written to STDERR\n",
      "E0000 00:00:1759087902.249544    8122 cuda_dnn.cc:8579] Unable to register cuDNN factory: Attempting to register factory for plugin cuDNN when one has already been registered\n",
      "E0000 00:00:1759087902.277550    8122 cuda_blas.cc:1407] Unable to register cuBLAS factory: Attempting to register factory for plugin cuBLAS when one has already been registered\n",
      "W0000 00:00:1759087902.440891    8122 computation_placer.cc:177] computation placer already registered. Please check linkage and avoid linking the same target more than once.\n",
      "W0000 00:00:1759087902.440913    8122 computation_placer.cc:177] computation placer already registered. Please check linkage and avoid linking the same target more than once.\n",
      "W0000 00:00:1759087902.440915    8122 computation_placer.cc:177] computation placer already registered. Please check linkage and avoid linking the same target more than once.\n",
      "W0000 00:00:1759087902.440917    8122 computation_placer.cc:177] computation placer already registered. Please check linkage and avoid linking the same target more than once.\n",
      "/home/ubuntu/.local/lib/python3.10/site-packages/matplotlib/projections/__init__.py:63: UserWarning: Unable to import Axes3D. This may be due to multiple versions of Matplotlib being installed (e.g. as a system package and as a pip package). As a result, the 3D projection is not available.\n",
      "  warnings.warn(\"Unable to import Axes3D. This may be due to multiple versions of \"\n",
      "Fetching 3 files: 100%|██████████| 3/3 [00:40<00:00, 13.53s/it]\n",
      "Loading checkpoint shards: 100%|██████████| 3/3 [00:05<00:00,  1.84s/it]"
     ]
    },
    {
     "name": "stdout",
     "output_type": "stream",
     "text": [
      "Model loaded successfully\n"
     ]
    },
    {
     "name": "stderr",
     "output_type": "stream",
     "text": [
      "\n"
     ]
    }
   ],
   "source": [
    "# Load model with optimizations\n",
    "print(\"Loading model...\")\n",
    "tokenizer = AutoTokenizer.from_pretrained(MODEL_NAME, token=HF_TOKEN)\n",
    "tokenizer.pad_token = tokenizer.eos_token\n",
    "tokenizer.pad_token_id = tokenizer.eos_token_id\n",
    "\n",
    "model = AutoModelForCausalLM.from_pretrained(\n",
    "    MODEL_NAME, \n",
    "    token=HF_TOKEN,\n",
    "    torch_dtype=torch.bfloat16,\n",
    "    device_map=\"cuda:0\"  # Force single GPU\n",
    ")\n",
    "\n",
    "print(\"Model loaded successfully\")"
   ]
  },
  {
   "cell_type": "code",
   "execution_count": 39,
   "id": "06411356-d53e-4388-b75c-0b6e5e964336",
   "metadata": {},
   "outputs": [],
   "source": [
    "# for each topic, there are 2 prompts with the same token length,\n",
    "# each prompt stands for a epistemic status: certain or uncertain\n",
    "df = pd.read_csv(CSV_PATH)"
   ]
  },
  {
   "cell_type": "code",
   "execution_count": 40,
   "id": "1daa9ec4-6535-46d3-8319-47c3ce7c69f6",
   "metadata": {},
   "outputs": [
    {
     "data": {
      "text/html": [
       "<div>\n",
       "<style scoped>\n",
       "    .dataframe tbody tr th:only-of-type {\n",
       "        vertical-align: middle;\n",
       "    }\n",
       "\n",
       "    .dataframe tbody tr th {\n",
       "        vertical-align: top;\n",
       "    }\n",
       "\n",
       "    .dataframe thead th {\n",
       "        text-align: right;\n",
       "    }\n",
       "</style>\n",
       "<table border=\"1\" class=\"dataframe\">\n",
       "  <thead>\n",
       "    <tr style=\"text-align: right;\">\n",
       "      <th></th>\n",
       "      <th>topic</th>\n",
       "      <th>formality_status</th>\n",
       "      <th>prompt</th>\n",
       "    </tr>\n",
       "  </thead>\n",
       "  <tbody>\n",
       "    <tr>\n",
       "      <th>0</th>\n",
       "      <td>python_help</td>\n",
       "      <td>formal</td>\n",
       "      <td>Could you please explain how Python functions ...</td>\n",
       "    </tr>\n",
       "    <tr>\n",
       "      <th>1</th>\n",
       "      <td>python_help</td>\n",
       "      <td>informal</td>\n",
       "      <td>Could you just explain how Python functions wo...</td>\n",
       "    </tr>\n",
       "    <tr>\n",
       "      <th>2</th>\n",
       "      <td>climate_change</td>\n",
       "      <td>formal</td>\n",
       "      <td>I would appreciate your analysis of climate ch...</td>\n",
       "    </tr>\n",
       "    <tr>\n",
       "      <th>3</th>\n",
       "      <td>climate_change</td>\n",
       "      <td>informal</td>\n",
       "      <td>I would appreciate your analysis of climate ch...</td>\n",
       "    </tr>\n",
       "    <tr>\n",
       "      <th>4</th>\n",
       "      <td>cooking_advice</td>\n",
       "      <td>formal</td>\n",
       "      <td>Would you kindly recommend healthy meal prepar...</td>\n",
       "    </tr>\n",
       "    <tr>\n",
       "      <th>...</th>\n",
       "      <td>...</td>\n",
       "      <td>...</td>\n",
       "      <td>...</td>\n",
       "    </tr>\n",
       "    <tr>\n",
       "      <th>79</th>\n",
       "      <td>digital_security</td>\n",
       "      <td>informal</td>\n",
       "      <td>I should appreciate guidance about online priv...</td>\n",
       "    </tr>\n",
       "    <tr>\n",
       "      <th>80</th>\n",
       "      <td>creative_problem_solving</td>\n",
       "      <td>formal</td>\n",
       "      <td>Could you please explain innovative thinking t...</td>\n",
       "    </tr>\n",
       "    <tr>\n",
       "      <th>81</th>\n",
       "      <td>creative_problem_solving</td>\n",
       "      <td>informal</td>\n",
       "      <td>Could you maybe explain innovative thinking te...</td>\n",
       "    </tr>\n",
       "    <tr>\n",
       "      <th>82</th>\n",
       "      <td>emotional_intelligence</td>\n",
       "      <td>formal</td>\n",
       "      <td>Would you kindly discuss emotional awareness s...</td>\n",
       "    </tr>\n",
       "    <tr>\n",
       "      <th>83</th>\n",
       "      <td>emotional_intelligence</td>\n",
       "      <td>informal</td>\n",
       "      <td>Would you maybe discuss emotional awareness st...</td>\n",
       "    </tr>\n",
       "  </tbody>\n",
       "</table>\n",
       "<p>84 rows × 3 columns</p>\n",
       "</div>"
      ],
      "text/plain": [
       "                       topic formality_status  \\\n",
       "0                python_help           formal   \n",
       "1                python_help         informal   \n",
       "2             climate_change           formal   \n",
       "3             climate_change         informal   \n",
       "4             cooking_advice           formal   \n",
       "..                       ...              ...   \n",
       "79          digital_security         informal   \n",
       "80  creative_problem_solving           formal   \n",
       "81  creative_problem_solving         informal   \n",
       "82    emotional_intelligence           formal   \n",
       "83    emotional_intelligence         informal   \n",
       "\n",
       "                                               prompt  \n",
       "0   Could you please explain how Python functions ...  \n",
       "1   Could you just explain how Python functions wo...  \n",
       "2   I would appreciate your analysis of climate ch...  \n",
       "3   I would appreciate your analysis of climate ch...  \n",
       "4   Would you kindly recommend healthy meal prepar...  \n",
       "..                                                ...  \n",
       "79  I should appreciate guidance about online priv...  \n",
       "80  Could you please explain innovative thinking t...  \n",
       "81  Could you maybe explain innovative thinking te...  \n",
       "82  Would you kindly discuss emotional awareness s...  \n",
       "83  Would you maybe discuss emotional awareness st...  \n",
       "\n",
       "[84 rows x 3 columns]"
      ]
     },
     "execution_count": 40,
     "metadata": {},
     "output_type": "execute_result"
    }
   ],
   "source": [
    "df"
   ]
  },
  {
   "cell_type": "code",
   "execution_count": 41,
   "id": "fc8863ca-b3f0-492f-a70c-3ea41b6e14cd",
   "metadata": {},
   "outputs": [
    {
     "name": "stdout",
     "output_type": "stream",
     "text": [
      "✅ python_help: 15 tokens\n",
      "✅ climate_change: 15 tokens\n",
      "✅ cooking_advice: 20 tokens\n",
      "✅ exercise_guidance: 21 tokens\n",
      "✅ investment_strategy: 17 tokens\n",
      "✅ language_learning: 18 tokens\n",
      "✅ career_advice: 16 tokens\n",
      "✅ home_improvement: 18 tokens\n",
      "✅ study_techniques: 18 tokens\n",
      "✅ travel_planning: 17 tokens\n",
      "✅ productivity_tips: 17 tokens\n",
      "✅ health_nutrition: 19 tokens\n",
      "✅ technology_trends: 20 tokens\n",
      "✅ relationship_advice: 18 tokens\n",
      "✅ mental_health: 19 tokens\n",
      "✅ financial_planning: 18 tokens\n",
      "✅ creative_writing: 19 tokens\n",
      "✅ public_speaking: 21 tokens\n",
      "✅ entrepreneurship: 16 tokens\n",
      "✅ environmental_action: 21 tokens\n",
      "✅ skill_development: 17 tokens\n",
      "✅ home_organization: 16 tokens\n",
      "✅ pet_care: 18 tokens\n",
      "✅ gardening_tips: 20 tokens\n",
      "✅ book_recommendations: 18 tokens\n",
      "✅ music_theory: 17 tokens\n",
      "✅ photography_skills: 20 tokens\n",
      "✅ meditation_practice: 21 tokens\n",
      "✅ communication_skills: 19 tokens\n",
      "✅ data_analysis: 18 tokens\n",
      "✅ social_media: 19 tokens\n",
      "✅ decision_making: 18 tokens\n",
      "✅ sleep_hygiene: 19 tokens\n",
      "✅ conflict_resolution: 21 tokens\n",
      "✅ scientific_literacy: 20 tokens\n",
      "✅ cultural_awareness: 18 tokens\n",
      "✅ memory_improvement: 19 tokens\n",
      "✅ leadership_skills: 20 tokens\n",
      "✅ habit_formation: 20 tokens\n",
      "✅ digital_security: 19 tokens\n",
      "✅ creative_problem_solving: 19 tokens\n",
      "✅ emotional_intelligence: 20 tokens\n",
      "\n",
      "🎉 All 42 pairs are token-matched!\n"
     ]
    }
   ],
   "source": [
    "# Group by topic to get pairs\n",
    "# Before experimet, double-check each pair of prompts has the same length of tokens\n",
    "topics = df['topic'].unique()\n",
    "mismatches = []\n",
    "\n",
    "for topic in topics:\n",
    "    topic_data = df[df['topic'] == topic]\n",
    "    formal_prompt = topic_data[topic_data['formality_status'] == 'formal']['prompt'].iloc[0]\n",
    "    informal_prompt = topic_data[topic_data['formality_status'] == 'informal']['prompt'].iloc[0]\n",
    "    \n",
    "    formal_tokens = len(tokenizer.encode(formal_prompt))\n",
    "    informal_tokens = len(tokenizer.encode(informal_prompt))\n",
    "    \n",
    "    if formal_tokens != informal_tokens:\n",
    "        mismatches.append({\n",
    "            'topic': topic,\n",
    "            'certain_tokens': formal_tokens,\n",
    "            'uncertain_tokens': informal_tokens,\n",
    "            'difference': abs(formal_tokens - informal_tokens)\n",
    "        })\n",
    "        print(f\"❌ {topic}: {formal_tokens} vs {informal_tokens}\")\n",
    "    else:\n",
    "        print(f\"✅ {topic}: {formal_tokens} tokens\")\n",
    "\n",
    "if mismatches:\n",
    "    print(f\"\\n⚠️  Found {len(mismatches)} mismatched pairs!\")\n",
    "else:\n",
    "    print(f\"\\n🎉 All {len(topics)} pairs are token-matched!\")"
   ]
  },
  {
   "cell_type": "code",
   "execution_count": 48,
   "id": "3cc21561-0492-467a-963c-c7215fdb6ba9",
   "metadata": {},
   "outputs": [
    {
     "name": "stdout",
     "output_type": "stream",
     "text": [
      "Dataset: 40 certain, 40 uncertain prompts\n"
     ]
    }
   ],
   "source": [
    "# Load and prepare data\n",
    "formal_prompt = df[df[\"formality_status\"] == \"formal\"][\"prompt\"].dropna().tolist()[:DATASET_SIZE]\n",
    "informal_prompt = df[df[\"formality_status\"] == \"informal\"][\"prompt\"].dropna().tolist()[:DATASET_SIZE]\n",
    "\n",
    "print(f\"Dataset: {len(formal_prompt)} certain, {len(informal_prompt)} uncertain prompts\")"
   ]
  },
  {
   "cell_type": "code",
   "execution_count": 43,
   "id": "25fe1de3-5b0b-42f1-a53e-e03d0cba9683",
   "metadata": {},
   "outputs": [
    {
     "name": "stdout",
     "output_type": "stream",
     "text": [
      "\n",
      "--- Token Verification ---\n",
      "Token string: '!' -> Encoded tokens: [1, 1738]\n",
      "Token string: '.' -> Encoded tokens: [1, 869]\n"
     ]
    }
   ],
   "source": [
    "formal_token_str = \"!\"\n",
    "informal_token_str = \".\"\n",
    "\n",
    "formal_tokens = tokenizer.encode(formal_token_str)\n",
    "informal_tokens = tokenizer.encode(informal_token_str)\n",
    "\n",
    "print(\"\\n--- Token Verification ---\")\n",
    "print(f\"Token string: '{formal_token_str}' -> Encoded tokens: {formal_tokens}\")\n",
    "print(f\"Token string: '{informal_token_str}' -> Encoded tokens: {informal_tokens}\")"
   ]
  },
  {
   "cell_type": "code",
   "execution_count": 44,
   "id": "730ea42f-e8a6-483f-bac9-976377c21c26",
   "metadata": {},
   "outputs": [
    {
     "name": "stdout",
     "output_type": "stream",
     "text": [
      "\n",
      "Is '!' a single token (ignoring BOS)? True\n",
      "Is '.' a single token (ignoring BOS)? True\n",
      "\n",
      "✅ Verification successful. This is a strong token pair for your metric.\n",
      "-> Use formal_token_id = 1738\n",
      "-> Use informal_token_id = 869\n"
     ]
    }
   ],
   "source": [
    "# The first token is often a beginning-of-sequence (BOS) token, which we can ignore.\n",
    "is_formal_single_token = len(formal_tokens) == 2 \n",
    "is_informal_single_token = len(informal_tokens) == 2\n",
    "\n",
    "print(f\"\\nIs '{formal_token_str}' a single token (ignoring BOS)? {is_formal_single_token}\")\n",
    "print(f\"Is '{informal_token_str}' a single token (ignoring BOS)? {is_informal_single_token}\")\n",
    "\n",
    "if is_formal_single_token and is_informal_single_token:\n",
    "    print(\"\\n✅ Verification successful. This is a strong token pair for your metric.\")\n",
    "    formal_token_id = formal_tokens[1]\n",
    "    informal_token_id = informal_tokens[1]\n",
    "    print(f\"-> Use formal_token_id = {formal_token_id}\")\n",
    "    print(f\"-> Use informal_token_id = {informal_token_id}\")\n",
    "else:\n",
    "    print(\"\\n❌ Verification FAILED. One or both strings are not single tokens. Choose a different pair.\")\n"
   ]
  },
  {
   "cell_type": "code",
   "execution_count": 49,
   "id": "bfeccb35-d6dc-4698-beeb-d7019bbd6009",
   "metadata": {},
   "outputs": [
    {
     "data": {
      "text/html": [
       "<div>\n",
       "<style scoped>\n",
       "    .dataframe tbody tr th:only-of-type {\n",
       "        vertical-align: middle;\n",
       "    }\n",
       "\n",
       "    .dataframe tbody tr th {\n",
       "        vertical-align: top;\n",
       "    }\n",
       "\n",
       "    .dataframe thead th {\n",
       "        text-align: right;\n",
       "    }\n",
       "</style>\n",
       "<table border=\"1\" class=\"dataframe\">\n",
       "  <thead>\n",
       "    <tr style=\"text-align: right;\">\n",
       "      <th></th>\n",
       "      <th>topic</th>\n",
       "      <th>formality_status</th>\n",
       "      <th>prompt</th>\n",
       "    </tr>\n",
       "  </thead>\n",
       "  <tbody>\n",
       "    <tr>\n",
       "      <th>0</th>\n",
       "      <td>python_help</td>\n",
       "      <td>formal</td>\n",
       "      <td>Could you please explain how Python functions ...</td>\n",
       "    </tr>\n",
       "    <tr>\n",
       "      <th>1</th>\n",
       "      <td>python_help</td>\n",
       "      <td>informal</td>\n",
       "      <td>Could you just explain how Python functions wo...</td>\n",
       "    </tr>\n",
       "    <tr>\n",
       "      <th>2</th>\n",
       "      <td>climate_change</td>\n",
       "      <td>formal</td>\n",
       "      <td>I would appreciate your analysis of climate ch...</td>\n",
       "    </tr>\n",
       "    <tr>\n",
       "      <th>3</th>\n",
       "      <td>climate_change</td>\n",
       "      <td>informal</td>\n",
       "      <td>I would appreciate your analysis of climate ch...</td>\n",
       "    </tr>\n",
       "    <tr>\n",
       "      <th>4</th>\n",
       "      <td>cooking_advice</td>\n",
       "      <td>formal</td>\n",
       "      <td>Would you kindly recommend healthy meal prepar...</td>\n",
       "    </tr>\n",
       "    <tr>\n",
       "      <th>...</th>\n",
       "      <td>...</td>\n",
       "      <td>...</td>\n",
       "      <td>...</td>\n",
       "    </tr>\n",
       "    <tr>\n",
       "      <th>79</th>\n",
       "      <td>digital_security</td>\n",
       "      <td>informal</td>\n",
       "      <td>I should appreciate guidance about online priv...</td>\n",
       "    </tr>\n",
       "    <tr>\n",
       "      <th>80</th>\n",
       "      <td>creative_problem_solving</td>\n",
       "      <td>formal</td>\n",
       "      <td>Could you please explain innovative thinking t...</td>\n",
       "    </tr>\n",
       "    <tr>\n",
       "      <th>81</th>\n",
       "      <td>creative_problem_solving</td>\n",
       "      <td>informal</td>\n",
       "      <td>Could you maybe explain innovative thinking te...</td>\n",
       "    </tr>\n",
       "    <tr>\n",
       "      <th>82</th>\n",
       "      <td>emotional_intelligence</td>\n",
       "      <td>formal</td>\n",
       "      <td>Would you kindly discuss emotional awareness s...</td>\n",
       "    </tr>\n",
       "    <tr>\n",
       "      <th>83</th>\n",
       "      <td>emotional_intelligence</td>\n",
       "      <td>informal</td>\n",
       "      <td>Would you maybe discuss emotional awareness st...</td>\n",
       "    </tr>\n",
       "  </tbody>\n",
       "</table>\n",
       "<p>84 rows × 3 columns</p>\n",
       "</div>"
      ],
      "text/plain": [
       "                       topic formality_status  \\\n",
       "0                python_help           formal   \n",
       "1                python_help         informal   \n",
       "2             climate_change           formal   \n",
       "3             climate_change         informal   \n",
       "4             cooking_advice           formal   \n",
       "..                       ...              ...   \n",
       "79          digital_security         informal   \n",
       "80  creative_problem_solving           formal   \n",
       "81  creative_problem_solving         informal   \n",
       "82    emotional_intelligence           formal   \n",
       "83    emotional_intelligence         informal   \n",
       "\n",
       "                                               prompt  \n",
       "0   Could you please explain how Python functions ...  \n",
       "1   Could you just explain how Python functions wo...  \n",
       "2   I would appreciate your analysis of climate ch...  \n",
       "3   I would appreciate your analysis of climate ch...  \n",
       "4   Would you kindly recommend healthy meal prepar...  \n",
       "..                                                ...  \n",
       "79  I should appreciate guidance about online priv...  \n",
       "80  Could you please explain innovative thinking t...  \n",
       "81  Could you maybe explain innovative thinking te...  \n",
       "82  Would you kindly discuss emotional awareness s...  \n",
       "83  Would you maybe discuss emotional awareness st...  \n",
       "\n",
       "[84 rows x 3 columns]"
      ]
     },
     "execution_count": 49,
     "metadata": {},
     "output_type": "execute_result"
    }
   ],
   "source": [
    "df"
   ]
  },
  {
   "cell_type": "code",
   "execution_count": 51,
   "id": "2aec6cea-6b45-4dbb-8651-d584a43f4d79",
   "metadata": {},
   "outputs": [],
   "source": [
    "# in order to make ! and . work, adding \"My final answer is\" to the end of every prompt\n",
    "# so the model is tasked to create a punctuation\n",
    "formal_prompt = [prompt + \" My final answer is\" for prompt in formal_prompt]\n",
    "informal_prompt = [prompt + \" My final answer is\" for prompt in informal_prompt]"
   ]
  },
  {
   "cell_type": "code",
   "execution_count": 52,
   "id": "28ed924c-5b3e-44f8-9526-8c9e53ff5dc7",
   "metadata": {},
   "outputs": [
    {
     "data": {
      "text/plain": [
       "['Could you please explain how Python functions work and provide some detailed examples? My final answer is',\n",
       " 'I would appreciate your analysis of climate change causes and their scientific evidence. My final answer is',\n",
       " 'Would you kindly recommend healthy meal preparation techniques that maximize nutritional value? My final answer is',\n",
       " 'Could you please describe effective workout routines for cardiovascular health and strength building? My final answer is',\n",
       " 'I would be grateful for advice regarding long term investment strategies and planning. My final answer is',\n",
       " 'Would you please suggest effective methods for acquiring fluency in foreign languages systematically? My final answer is',\n",
       " 'I should appreciate guidance concerning career transitions into technology fields for professional development. My final answer is',\n",
       " 'Could you kindly provide recommendations for energy efficient home renovations that reduce environmental impact? My final answer is',\n",
       " 'Would you please explain memory enhancement strategies that improve academic performance and retention? My final answer is',\n",
       " 'I would appreciate assistance with international travel planning including cultural considerations and logistics. My final answer is',\n",
       " 'Could you please recommend time management techniques that maximize daily productivity and efficiency? My final answer is',\n",
       " 'Would you kindly explain the relationship between dietary choices and long term health outcomes? My final answer is',\n",
       " 'I would be interested in your assessment concerning emerging artificial intelligence trends and implications. My final answer is',\n",
       " 'Could you please provide guidance regarding effective communication strategies for maintaining healthy relationships? My final answer is',\n",
       " 'Would you kindly discuss stress management techniques that promote psychological well being and resilience? My final answer is',\n",
       " 'I should appreciate advice concerning budget management strategies for achieving long term financial stability. My final answer is',\n",
       " 'Could you please suggest techniques for developing compelling fictional narratives with strong character development? My final answer is',\n",
       " 'Would you kindly explain methods for overcoming presentation anxiety and delivering engaging speeches effectively? My final answer is',\n",
       " 'I would appreciate guidance regarding small business development strategies and market entry approaches. My final answer is',\n",
       " 'Could you please recommend sustainable lifestyle practices that minimize individual environmental impact and consumption? My final answer is',\n",
       " 'Would you kindly suggest approaches for acquiring new professional skills through online learning platforms? My final answer is',\n",
       " 'I should appreciate advice concerning effective home organization systems that improve daily living efficiency. My final answer is',\n",
       " 'Could you please provide guidance regarding proper pet nutrition and health maintenance for animals? My final answer is',\n",
       " 'Would you kindly explain organic gardening techniques that promote plant health and soil sustainability? My final answer is',\n",
       " 'I would be grateful for literature suggestions that explore themes concerning personal growth and development. My final answer is',\n",
       " 'Could you please describe fundamental music theory concepts that facilitate composition and performance understanding? My final answer is',\n",
       " 'Would you kindly suggest technical photography approaches for capturing professional quality images in lighting conditions? My final answer is',\n",
       " 'I should appreciate instruction regarding mindfulness meditation techniques that enhance mental clarity and balance. My final answer is',\n",
       " 'Could you please explain effective listening strategies that improve interpersonal understanding and conflict resolution? My final answer is',\n",
       " 'Would you kindly describe statistical analysis methods that reveal meaningful patterns in complex datasets? My final answer is',\n",
       " 'I would appreciate guidance concerning responsible social media usage that maintains privacy and engagement. My final answer is',\n",
       " 'Could you please suggest frameworks for making difficult personal decisions that align with individual values? My final answer is',\n",
       " 'Would you kindly explain sleep optimization techniques that improve rest quality and daytime cognitive performance? My final answer is',\n",
       " 'I should appreciate advice concerning peaceful conflict resolution strategies for workplace and family disagreements. My final answer is',\n",
       " 'Could you please describe methods for evaluating scientific claims and distinguishing reliable research from misinformation? My final answer is',\n",
       " 'Would you kindly explain approaches for developing cross cultural competence and respectful international communication? My final answer is',\n",
       " 'I would be interested in learning concerning cognitive techniques that enhance memory formation and recall. My final answer is',\n",
       " 'Could you please suggest leadership development strategies that inspire team collaboration and organizational effectiveness? My final answer is',\n",
       " 'Would you kindly describe psychological principles that facilitate positive habit development and behavioral change maintenance? My final answer is',\n",
       " 'I should appreciate guidance concerning online privacy protection and cybersecurity best practices for safety. My final answer is']"
      ]
     },
     "execution_count": 52,
     "metadata": {},
     "output_type": "execute_result"
    }
   ],
   "source": [
    "formal_prompt"
   ]
  },
  {
   "cell_type": "code",
   "execution_count": 53,
   "id": "43b2cb2b-8b0f-4459-8332-49b1543fb48d",
   "metadata": {},
   "outputs": [],
   "source": [
    "# Get metric tokens\n",
    "formal_token_id = tokenizer.encode(\" .\", add_special_tokens=False)[-1]\n",
    "informal_token_id = tokenizer.encode(\" !\", add_special_tokens=False)[-1]\n",
    "\n",
    "def get_logit_diff(logits, attention_mask):\n",
    "    \"\"\"Fast logit difference calculation\"\"\"\n",
    "    seq_lens = attention_mask.sum(dim=1) - 1\n",
    "    final_logits = logits[torch.arange(logits.shape[0], device=logits.device), seq_lens]\n",
    "    return final_logits[:, formal_token_id] - final_logits[:, informal_token_id]"
   ]
  },
  {
   "cell_type": "code",
   "execution_count": 54,
   "id": "08f3ca5b-c192-46eb-998c-e52e2d7ebb1e",
   "metadata": {},
   "outputs": [],
   "source": [
    "def run_patching_experiment(clean_prompts, corrupted_prompts, exp_name):\n",
    "    \"\"\"Unified patching function for both experiments\"\"\"\n",
    "    \n",
    "    print(f\"\\nRunning {exp_name}...\")\n",
    "    \n",
    "    # Tokenize\n",
    "    clean_tokens = tokenizer(clean_prompts, return_tensors=\"pt\", padding=True, \n",
    "                           truncation=True, max_length=MAX_LENGTH).to(DEVICE)\n",
    "    corrupted_tokens = tokenizer(corrupted_prompts, return_tensors=\"pt\", padding=True,\n",
    "                                truncation=True, max_length=MAX_LENGTH).to(DEVICE)\n",
    "    \n",
    "    # Get baselines\n",
    "    with torch.no_grad():\n",
    "        clean_logits = model(**clean_tokens).logits\n",
    "        corrupted_logits = model(**corrupted_tokens).logits\n",
    "    \n",
    "    clean_baseline = get_logit_diff(clean_logits, clean_tokens.attention_mask).mean().item()\n",
    "    corrupted_baseline = get_logit_diff(corrupted_logits, corrupted_tokens.attention_mask).mean().item()\n",
    "    \n",
    "    print(f\"Clean baseline: {clean_baseline:.3f}, Corrupted baseline: {corrupted_baseline:.3f}\")\n",
    "    \n",
    "    # Clear memory\n",
    "    del clean_logits, corrupted_logits\n",
    "    torch.cuda.empty_cache()\n",
    "    \n",
    "    # Patching results\n",
    "    results = torch.zeros(model.config.num_hidden_layers, device=DEVICE)\n",
    "    \n",
    "    for layer_idx in tqdm(range(model.config.num_hidden_layers), desc=f\"{exp_name}\"):\n",
    "        \n",
    "        # Get clean activation for this layer\n",
    "        clean_activation = None\n",
    "        def save_clean(module, input, output):\n",
    "            nonlocal clean_activation\n",
    "            clean_activation = input[0].clone()\n",
    "        \n",
    "        hook = model.model.layers[layer_idx].register_forward_hook(save_clean)\n",
    "        with torch.no_grad():\n",
    "            model(**clean_tokens)\n",
    "        hook.remove()\n",
    "        \n",
    "        # Patch and test\n",
    "        def patch_layer(module, input):\n",
    "            corrupted_resid = input[0]\n",
    "            \n",
    "            # Get sequence positions\n",
    "            clean_seq_lens = clean_tokens.attention_mask.sum(dim=1) - 1\n",
    "            corrupted_seq_lens = corrupted_tokens.attention_mask.sum(dim=1) - 1\n",
    "            batch_indices = torch.arange(corrupted_resid.shape[0], device=corrupted_resid.device)\n",
    "            \n",
    "            # Apply patch\n",
    "            patched_resid = corrupted_resid.clone()\n",
    "            patched_resid[batch_indices, corrupted_seq_lens] = clean_activation[batch_indices, clean_seq_lens]\n",
    "            \n",
    "            return (patched_resid,)\n",
    "        \n",
    "        hook = model.model.layers[layer_idx].register_forward_pre_hook(patch_layer)\n",
    "        \n",
    "        with torch.no_grad():\n",
    "            patched_logits = model(**corrupted_tokens).logits\n",
    "        \n",
    "        hook.remove()\n",
    "        \n",
    "        # Calculate effect\n",
    "        patched_score = get_logit_diff(patched_logits, corrupted_tokens.attention_mask).mean().item()\n",
    "        results[layer_idx] = patched_score\n",
    "        \n",
    "        # Cleanup\n",
    "        del clean_activation, patched_logits\n",
    "        torch.cuda.empty_cache()\n",
    "    \n",
    "    # Normalize\n",
    "    normalized = (results - corrupted_baseline) / (clean_baseline - corrupted_baseline)\n",
    "    return normalized.cpu()"
   ]
  },
  {
   "cell_type": "code",
   "execution_count": 57,
   "id": "1c541e8b-a1de-4a1a-a385-eee346382dd6",
   "metadata": {},
   "outputs": [
    {
     "name": "stdout",
     "output_type": "stream",
     "text": [
      "Starting experiments...\n",
      "\n",
      "Running 2A: Formal...\n",
      "Clean baseline: 3.422, Corrupted baseline: 3.266\n"
     ]
    },
    {
     "name": "stderr",
     "output_type": "stream",
     "text": [
      "2A: Formal: 100%|██████████| 40/40 [00:11<00:00,  3.43it/s]\n"
     ]
    }
   ],
   "source": [
    "print(\"Starting experiments...\")\n",
    "\n",
    "# Experiment 2A: formality restoration\n",
    "results_2a = run_patching_experiment(formal_prompt, informal_prompt, \"2A: Formal\")"
   ]
  },
  {
   "cell_type": "code",
   "execution_count": 58,
   "id": "3d9629be-3469-485b-8ce5-ee9974c729eb",
   "metadata": {},
   "outputs": [
    {
     "name": "stdout",
     "output_type": "stream",
     "text": [
      "\n",
      "Running 2B: Informality...\n",
      "Clean baseline: 3.266, Corrupted baseline: 3.422\n"
     ]
    },
    {
     "name": "stderr",
     "output_type": "stream",
     "text": [
      "2B: Informality: 100%|██████████| 40/40 [00:11<00:00,  3.42it/s]\n"
     ]
    }
   ],
   "source": [
    "# Experiment 2B: informality transfer  \n",
    "results_2b = run_patching_experiment(informal_prompt, formal_prompt, \"2B: Informality\")"
   ]
  },
  {
   "cell_type": "code",
   "execution_count": 60,
   "id": "e4ec3f86-0e02-43bd-bd37-86fc4b5da1ff",
   "metadata": {},
   "outputs": [
    {
     "name": "stdout",
     "output_type": "stream",
     "text": [
      "Creating visualization with matplotlib...\n"
     ]
    },
    {
     "data": {
      "image/png": "[encoded data removed]",
      "text/plain": [
       "<Figure size 864x576 with 4 Axes>"
      ]
     },
     "metadata": {
      "needs_background": "light"
     },
     "output_type": "display_data"
    },
    {
     "name": "stdout",
     "output_type": "stream",
     "text": [
      "Visualization displayed above\n"
     ]
    }
   ],
   "source": [
    "# Simple matplotlib visualization for notebook display\n",
    "print(\"Creating visualization with matplotlib...\")\n",
    "\n",
    "import matplotlib.pyplot as plt\n",
    "\n",
    "# Create figure with subplots\n",
    "fig, (ax1, ax2) = plt.subplots(1, 2, figsize=(12, 8))\n",
    "\n",
    "# Plot 2A\n",
    "im1 = ax1.imshow(results_2a.numpy().reshape(-1, 1), cmap='RdBu_r', vmin=-1, vmax=1, aspect='auto')\n",
    "ax1.set_title('Experiment 2A: Formality Restoration')\n",
    "ax1.set_ylabel('Layer')\n",
    "ax1.set_yticks(range(0, len(results_2a), 5))\n",
    "ax1.set_yticklabels(range(0, len(results_2a), 5))\n",
    "ax1.set_xticks([])\n",
    "\n",
    "# Plot 2B\n",
    "im2 = ax2.imshow(results_2b.numpy().reshape(-1, 1), cmap='RdBu_r', vmin=-1, vmax=1, aspect='auto')\n",
    "ax2.set_title('Experiment 2B: Informality Transfer')\n",
    "ax2.set_ylabel('Layer')\n",
    "ax2.set_yticks(range(0, len(results_2b), 5))\n",
    "ax2.set_yticklabels(range(0, len(results_2b), 5))\n",
    "ax2.set_xticks([])\n",
    "\n",
    "# Add colorbars\n",
    "plt.colorbar(im1, ax=ax1, label='Restoration Score')\n",
    "plt.colorbar(im2, ax=ax2, label='Transfer Score')\n",
    "\n",
    "plt.tight_layout()\n",
    "plt.show()\n",
    "\n",
    "print(\"Visualization displayed above\")"
   ]
  },
  {
   "cell_type": "code",
   "execution_count": 61,
   "id": "46d04ef5-68fc-46e1-9966-9227da6e67a3",
   "metadata": {},
   "outputs": [
    {
     "name": "stdout",
     "output_type": "stream",
     "text": [
      "\n",
      "============================================================\n",
      "RESULTS SUMMARY\n",
      "============================================================\n",
      "Top 5 Formality Restoration Layers:\n",
      "  1. Layer 39: 0.900\n",
      "  2. Layer 37: 0.900\n",
      "  3. Layer 38: 0.900\n",
      "  4. Layer 25: 0.700\n",
      "  5. Layer 24: 0.700\n",
      "\n",
      "Top 5 Informality Transfer Layers:\n",
      "  1. Layer 39: 0.900\n",
      "  2. Layer 37: 0.900\n",
      "  3. Layer 38: 0.900\n",
      "  4. Layer 35: 0.700\n",
      "  5. Layer 25: 0.700\n",
      "\n",
      "Overall Performance:\n",
      "  Mean certainty restoration: 0.418\n",
      "  Mean uncertainty transfer: 0.380\n",
      "  Circuit strength ratio: 1.10x\n",
      "\n",
      "High-Impact Layer Analysis:\n",
      "  Certainty layers (>0.5): 15\n",
      "  Uncertainty layers (>0.5): 17\n",
      "  Overlapping layers: 15\n",
      "  Shared layers: [23, 24, 25, 26, 27, 28, 31, 32, 33, 34, 35, 36, 37, 38, 39]\n",
      "\n",
      "Results saved to: circuit_discovery_results.png\n",
      "Experiment complete!\n"
     ]
    }
   ],
   "source": [
    "# Print summary\n",
    "print(\"\\n\" + \"=\"*60)\n",
    "print(\"RESULTS SUMMARY\")\n",
    "print(\"=\"*60)\n",
    "\n",
    "top_2a = results_2a.topk(5)\n",
    "top_2b = results_2b.topk(5)\n",
    "\n",
    "print(\"Top 5 Formality Restoration Layers:\")\n",
    "for i, (score, layer) in enumerate(zip(top_2a.values, top_2a.indices)):\n",
    "    print(f\"  {i+1}. Layer {layer.item():2d}: {score.item():.3f}\")\n",
    "\n",
    "print(\"\\nTop 5 Informality Transfer Layers:\")\n",
    "for i, (score, layer) in enumerate(zip(top_2b.values, top_2b.indices)):\n",
    "    print(f\"  {i+1}. Layer {layer.item():2d}: {score.item():.3f}\")\n",
    "\n",
    "print(f\"\\nOverall Performance:\")\n",
    "print(f\"  Mean certainty restoration: {results_2a.mean().item():.3f}\")\n",
    "print(f\"  Mean uncertainty transfer: {results_2b.mean().item():.3f}\")\n",
    "print(f\"  Circuit strength ratio: {results_2a.mean().item() / results_2b.mean().item():.2f}x\")\n",
    "\n",
    "# Find high-impact layers\n",
    "high_2a = (results_2a > 0.5).nonzero(as_tuple=True)[0]\n",
    "high_2b = (results_2b > 0.5).nonzero(as_tuple=True)[0]\n",
    "overlap = set(high_2a.tolist()) & set(high_2b.tolist())\n",
    "\n",
    "print(f\"\\nHigh-Impact Layer Analysis:\")\n",
    "print(f\"  Certainty layers (>0.5): {len(high_2a)}\")\n",
    "print(f\"  Uncertainty layers (>0.5): {len(high_2b)}\")\n",
    "print(f\"  Overlapping layers: {len(overlap)}\")\n",
    "\n",
    "if overlap:\n",
    "    print(f\"  Shared layers: {sorted(list(overlap))}\")\n",
    "\n",
    "print(f\"\\nResults saved to: circuit_discovery_results.png\")\n",
    "print(\"Experiment complete!\")"
   ]
  },
  {
   "cell_type": "code",
   "execution_count": 62,
   "id": "4050669c-eb0d-45c6-ba24-6568213af1fc",
   "metadata": {},
   "outputs": [
    {
     "data": {
      "text/plain": [
       "tensor([0.0000, 0.0000, 0.0000, 0.0000, 0.0000, 0.0000, 0.1000, 0.1000, 0.1000,\n",
       "        0.2000, 0.1000, 0.2000, 0.3000, 0.2000, 0.2000, 0.5000, 0.5000, 0.5000,\n",
       "        0.5000, 0.4000, 0.5000, 0.4000, 0.5000, 0.7000, 0.7000, 0.7000, 0.6000,\n",
       "        0.6000, 0.6000, 0.5000, 0.5000, 0.6000, 0.6000, 0.6000, 0.7000, 0.6000,\n",
       "        0.7000, 0.9000, 0.9000, 0.9000])"
      ]
     },
     "execution_count": 62,
     "metadata": {},
     "output_type": "execute_result"
    }
   ],
   "source": [
    "results_2a"
   ]
  },
  {
   "cell_type": "code",
   "execution_count": 63,
   "id": "a207ce17-5bf3-4aeb-866e-f86b008ff980",
   "metadata": {},
   "outputs": [
    {
     "data": {
      "text/plain": [
       "tensor([-0.0000, -0.0000, -0.0000, -0.0000, -0.0000, -0.0000, 0.1000, -0.0000, 0.1000,\n",
       "        0.1000, -0.0000, 0.1000, 0.2000, 0.1000, 0.2000, 0.3000, 0.3000, 0.3000,\n",
       "        0.4000, 0.4000, 0.4000, 0.4000, 0.5000, 0.6000, 0.6000, 0.7000, 0.6000,\n",
       "        0.6000, 0.6000, 0.6000, 0.6000, 0.6000, 0.6000, 0.6000, 0.6000, 0.7000,\n",
       "        0.6000, 0.9000, 0.9000, 0.9000])"
      ]
     },
     "execution_count": 63,
     "metadata": {},
     "output_type": "execute_result"
    }
   ],
   "source": [
    "results_2b"
   ]
  },
  {
   "cell_type": "code",
   "execution_count": null,
   "id": "9573b6f8-0dc1-419f-8ab3-1ea1805027b4",
   "metadata": {},
   "outputs": [],
   "source": []
  }
 ],
 "metadata": {
  "kernelspec": {
   "display_name": "Python 3 (ipykernel)",
   "language": "python",
   "name": "python3"
  },
  "language_info": {
   "codemirror_mode": {
    "name": "ipython",
    "version": 3
   },
   "file_extension": ".py",
   "mimetype": "text/x-python",
   "name": "python",
   "nbconvert_exporter": "python",
   "pygments_lexer": "ipython3",
   "version": "3.10.12"
  }
 },
 "nbformat": 4,
 "nbformat_minor": 5
}
